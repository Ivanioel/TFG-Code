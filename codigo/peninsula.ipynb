{
 "metadata": {
  "language_info": {
   "codemirror_mode": {
    "name": "ipython",
    "version": 3
   },
   "file_extension": ".py",
   "mimetype": "text/x-python",
   "name": "python",
   "nbconvert_exporter": "python",
   "pygments_lexer": "ipython3",
   "version": "3.9.5"
  },
  "orig_nbformat": 2,
  "kernelspec": {
   "name": "python395jvsc74a57bd0767d51c1340bd893661ea55ea3124f6de3c7a262a8b4abca0554b478b1e2ff90",
   "display_name": "Python 3.9.5 64-bit"
  }
 },
 "nbformat": 4,
 "nbformat_minor": 2,
 "cells": [
  {
   "cell_type": "code",
   "execution_count": 2,
   "metadata": {},
   "outputs": [],
   "source": [
    "import pandas as pd\n",
    "import numpy as np\n",
    "import re\n",
    "from joblib import load, dump"
   ]
  },
  {
   "cell_type": "code",
   "execution_count": 3,
   "metadata": {},
   "outputs": [],
   "source": [
    "#df_2016 = load('../datasets/Peninsula/df_pen_wind_2016_1_0.pkl')\n",
    "#df_2017 = load('../datasets/Peninsula/df_pen_wind_2017_1_0.pkl')\n",
    "df_2018 = load('../datasets/Peninsula/df_pen_wind_2018_1_0.pkl')\n",
    "#df_2016_red = load('../datasets/Peninsula/df_pen_wind_2016_reduced.pkl')\n",
    "#df_2017_red = load('../datasets/Peninsula/df_pen_wind_2017_reduced.pkl')\n",
    "#df_2018_red = load('../datasets/Peninsula/df_pen_wind_2018_reduced.pkl')\n",
    "\n",
    "#df_2016_2018_reduced = load('../datasets/Peninsula/df_pen_wind_2016_2018_reduced.pkl')\n",
    "#df_target = pd.read_csv('../datasets/Peninsula/eolica_10m_2016_2018_hour_utc.csv', index_col=0, parse_dates=True)"
   ]
  },
  {
   "cell_type": "code",
   "execution_count": 4,
   "metadata": {},
   "outputs": [
    {
     "output_type": "execute_result",
     "data": {
      "text/plain": [
       "                     100u_(35.5, -0.125)  100u_(35.5, -0.25)  \\\n",
       "prediction date                                                \n",
       "2018-01-02 00:00:00             2.964422            4.942450   \n",
       "2018-01-02 01:00:00             2.567945            4.711011   \n",
       "2018-01-02 02:00:00             2.477205            4.456209   \n",
       "2018-01-02 03:00:00             2.785621            4.582984   \n",
       "2018-01-02 04:00:00             2.825115            4.300213   \n",
       "...                                  ...                 ...   \n",
       "2019-01-01 19:00:00            -0.273147           -1.778029   \n",
       "2019-01-01 20:00:00             0.061595           -1.596608   \n",
       "2019-01-01 21:00:00            -0.032182           -1.475541   \n",
       "2019-01-01 22:00:00            -0.310802           -0.715099   \n",
       "2019-01-01 23:00:00            -0.351562            0.089355   \n",
       "\n",
       "                     100u_(35.5, -0.375)  100u_(35.5, -0.5)  \\\n",
       "prediction date                                               \n",
       "2018-01-02 00:00:00             6.952215           7.579168   \n",
       "2018-01-02 01:00:00             6.833570           7.365796   \n",
       "2018-01-02 02:00:00             6.445467           6.933260   \n",
       "2018-01-02 03:00:00             6.088843           6.347144   \n",
       "2018-01-02 04:00:00             5.148357           5.056561   \n",
       "...                                  ...                ...   \n",
       "2019-01-01 19:00:00            -3.244826          -3.892287   \n",
       "2019-01-01 20:00:00            -3.126393          -3.694753   \n",
       "2019-01-01 21:00:00            -2.857377          -3.078568   \n",
       "2019-01-01 22:00:00            -1.627209          -1.686291   \n",
       "2019-01-01 23:00:00            -0.366699          -0.426758   \n",
       "\n",
       "                     100u_(35.5, -0.625)  100u_(35.5, -0.75)  \\\n",
       "prediction date                                                \n",
       "2018-01-02 00:00:00             7.081121            6.433661   \n",
       "2018-01-02 01:00:00             6.728589            5.948316   \n",
       "2018-01-02 02:00:00             6.079256            5.005037   \n",
       "2018-01-02 03:00:00             5.558570            4.420875   \n",
       "2018-01-02 04:00:00             4.373455            3.361248   \n",
       "...                                  ...                 ...   \n",
       "2019-01-01 19:00:00            -3.414748           -3.097854   \n",
       "2019-01-01 20:00:00            -2.743093           -1.856374   \n",
       "2019-01-01 21:00:00            -1.687455           -0.687455   \n",
       "2019-01-01 22:00:00            -0.521740            0.163319   \n",
       "2019-01-01 23:00:00             0.197754            0.521973   \n",
       "\n",
       "                     100u_(35.5, -0.875)  100u_(35.5, -1.0)  \\\n",
       "prediction date                                               \n",
       "2018-01-02 00:00:00             6.078680           6.112371   \n",
       "2018-01-02 01:00:00             5.664136           5.791089   \n",
       "2018-01-02 02:00:00             4.728182           5.081697   \n",
       "2018-01-02 03:00:00             4.030250           4.482886   \n",
       "2018-01-02 04:00:00             2.808514           3.105877   \n",
       "...                                  ...                ...   \n",
       "2019-01-01 19:00:00            -3.362014          -2.894240   \n",
       "2019-01-01 20:00:00            -2.360768          -2.846120   \n",
       "2019-01-01 21:00:00            -1.470170          -2.625443   \n",
       "2019-01-01 22:00:00            -0.641369          -2.232677   \n",
       "2019-01-01 23:00:00            -0.166016          -1.599121   \n",
       "\n",
       "                     100u_(35.5, -1.125)  100u_(35.5, -1.25)  ...  \\\n",
       "prediction date                                               ...   \n",
       "2018-01-02 00:00:00             6.267645            6.465887  ...   \n",
       "2018-01-02 01:00:00             5.775952            5.709546  ...   \n",
       "2018-01-02 02:00:00             5.121248            4.831697  ...   \n",
       "2018-01-02 03:00:00             4.530738            4.052222  ...   \n",
       "2018-01-02 04:00:00             3.276287            3.091717  ...   \n",
       "...                                  ...                 ...  ...   \n",
       "2019-01-01 19:00:00            -1.833205           -1.261428  ...   \n",
       "2019-01-01 20:00:00            -2.271413           -1.359303  ...   \n",
       "2019-01-01 21:00:00            -2.723100           -1.644975  ...   \n",
       "2019-01-01 22:00:00            -3.046154           -1.975842  ...   \n",
       "2019-01-01 23:00:00            -2.365723           -1.552734  ...   \n",
       "\n",
       "                     sp_(44.0, 3.375)  sp_(44.0, 3.5)  sp_(44.0, 3.625)  \\\n",
       "prediction date                                                           \n",
       "2018-01-02 00:00:00        92529.7500      92916.7500        94594.2500   \n",
       "2018-01-02 01:00:00        92571.0625      92949.5625        94613.5625   \n",
       "2018-01-02 02:00:00        92587.7500      92951.7500        94601.7500   \n",
       "2018-01-02 03:00:00        92567.9375      92913.4375        94547.4375   \n",
       "2018-01-02 04:00:00        92532.8750      92861.8750        94488.8750   \n",
       "...                               ...             ...               ...   \n",
       "2019-01-01 19:00:00        93316.0000      93655.5000        95301.5000   \n",
       "2019-01-01 20:00:00        93301.5625      93631.5625        95273.5625   \n",
       "2019-01-01 21:00:00        93297.0625      93619.5625        95263.5625   \n",
       "2019-01-01 22:00:00        93284.5625      93608.5625        95257.5625   \n",
       "2019-01-01 23:00:00        93241.4375      93565.9375        95218.9375   \n",
       "\n",
       "                     sp_(44.0, 3.75)  sp_(44.0, 3.875)  sp_(44.0, 4.0)  \\\n",
       "prediction date                                                          \n",
       "2018-01-02 00:00:00       96793.7500        98474.2500      99611.2500   \n",
       "2018-01-02 01:00:00       96806.5625        98490.5625      99638.5625   \n",
       "2018-01-02 02:00:00       96793.2500        98495.7500      99666.2500   \n",
       "2018-01-02 03:00:00       96735.4375        98447.9375      99629.4375   \n",
       "2018-01-02 04:00:00       96686.3750        98413.8750      99608.3750   \n",
       "...                              ...               ...             ...   \n",
       "2019-01-01 19:00:00       97502.0000        99221.5000     100405.5000   \n",
       "2019-01-01 20:00:00       97477.0625        99205.5625     100399.0625   \n",
       "2019-01-01 21:00:00       97475.0625        99209.5625     100402.0625   \n",
       "2019-01-01 22:00:00       97474.0625        99208.5625     100399.0625   \n",
       "2019-01-01 23:00:00       97439.9375        99175.4375     100365.4375   \n",
       "\n",
       "                     sp_(44.0, 4.125)  sp_(44.0, 4.25)  sp_(44.0, 4.375)  \\\n",
       "prediction date                                                            \n",
       "2018-01-02 00:00:00       100439.7500      100481.2500       100007.7500   \n",
       "2018-01-02 01:00:00       100476.5625      100524.0625       100047.5625   \n",
       "2018-01-02 02:00:00       100511.7500      100559.2500       100084.7500   \n",
       "2018-01-02 03:00:00       100481.9375      100535.4375       100075.9375   \n",
       "2018-01-02 04:00:00       100467.8750      100528.3750       100078.3750   \n",
       "...                               ...              ...               ...   \n",
       "2019-01-01 19:00:00       101244.0000      101273.0000       100803.0000   \n",
       "2019-01-01 20:00:00       101239.5625      101262.5625       100785.5625   \n",
       "2019-01-01 21:00:00       101239.0625      101258.5625       100775.0625   \n",
       "2019-01-01 22:00:00       101237.0625      101255.0625       100763.5625   \n",
       "2019-01-01 23:00:00       101202.9375      101218.4375       100724.9375   \n",
       "\n",
       "                     sp_(44.0, 4.5)  \n",
       "prediction date                      \n",
       "2018-01-02 00:00:00     100158.2500  \n",
       "2018-01-02 01:00:00     100190.0625  \n",
       "2018-01-02 02:00:00     100223.7500  \n",
       "2018-01-02 03:00:00     100227.9375  \n",
       "2018-01-02 04:00:00     100244.8750  \n",
       "...                             ...  \n",
       "2019-01-01 19:00:00     100944.0000  \n",
       "2019-01-01 20:00:00     100923.5625  \n",
       "2019-01-01 21:00:00     100909.0625  \n",
       "2019-01-01 22:00:00     100892.0625  \n",
       "2019-01-01 23:00:00     100855.4375  \n",
       "\n",
       "[8760 rows x 46783 columns]"
      ],
      "text/html": "<div>\n<style scoped>\n    .dataframe tbody tr th:only-of-type {\n        vertical-align: middle;\n    }\n\n    .dataframe tbody tr th {\n        vertical-align: top;\n    }\n\n    .dataframe thead th {\n        text-align: right;\n    }\n</style>\n<table border=\"1\" class=\"dataframe\">\n  <thead>\n    <tr style=\"text-align: right;\">\n      <th></th>\n      <th>100u_(35.5, -0.125)</th>\n      <th>100u_(35.5, -0.25)</th>\n      <th>100u_(35.5, -0.375)</th>\n      <th>100u_(35.5, -0.5)</th>\n      <th>100u_(35.5, -0.625)</th>\n      <th>100u_(35.5, -0.75)</th>\n      <th>100u_(35.5, -0.875)</th>\n      <th>100u_(35.5, -1.0)</th>\n      <th>100u_(35.5, -1.125)</th>\n      <th>100u_(35.5, -1.25)</th>\n      <th>...</th>\n      <th>sp_(44.0, 3.375)</th>\n      <th>sp_(44.0, 3.5)</th>\n      <th>sp_(44.0, 3.625)</th>\n      <th>sp_(44.0, 3.75)</th>\n      <th>sp_(44.0, 3.875)</th>\n      <th>sp_(44.0, 4.0)</th>\n      <th>sp_(44.0, 4.125)</th>\n      <th>sp_(44.0, 4.25)</th>\n      <th>sp_(44.0, 4.375)</th>\n      <th>sp_(44.0, 4.5)</th>\n    </tr>\n    <tr>\n      <th>prediction date</th>\n      <th></th>\n      <th></th>\n      <th></th>\n      <th></th>\n      <th></th>\n      <th></th>\n      <th></th>\n      <th></th>\n      <th></th>\n      <th></th>\n      <th></th>\n      <th></th>\n      <th></th>\n      <th></th>\n      <th></th>\n      <th></th>\n      <th></th>\n      <th></th>\n      <th></th>\n      <th></th>\n      <th></th>\n    </tr>\n  </thead>\n  <tbody>\n    <tr>\n      <th>2018-01-02 00:00:00</th>\n      <td>2.964422</td>\n      <td>4.942450</td>\n      <td>6.952215</td>\n      <td>7.579168</td>\n      <td>7.081121</td>\n      <td>6.433661</td>\n      <td>6.078680</td>\n      <td>6.112371</td>\n      <td>6.267645</td>\n      <td>6.465887</td>\n      <td>...</td>\n      <td>92529.7500</td>\n      <td>92916.7500</td>\n      <td>94594.2500</td>\n      <td>96793.7500</td>\n      <td>98474.2500</td>\n      <td>99611.2500</td>\n      <td>100439.7500</td>\n      <td>100481.2500</td>\n      <td>100007.7500</td>\n      <td>100158.2500</td>\n    </tr>\n    <tr>\n      <th>2018-01-02 01:00:00</th>\n      <td>2.567945</td>\n      <td>4.711011</td>\n      <td>6.833570</td>\n      <td>7.365796</td>\n      <td>6.728589</td>\n      <td>5.948316</td>\n      <td>5.664136</td>\n      <td>5.791089</td>\n      <td>5.775952</td>\n      <td>5.709546</td>\n      <td>...</td>\n      <td>92571.0625</td>\n      <td>92949.5625</td>\n      <td>94613.5625</td>\n      <td>96806.5625</td>\n      <td>98490.5625</td>\n      <td>99638.5625</td>\n      <td>100476.5625</td>\n      <td>100524.0625</td>\n      <td>100047.5625</td>\n      <td>100190.0625</td>\n    </tr>\n    <tr>\n      <th>2018-01-02 02:00:00</th>\n      <td>2.477205</td>\n      <td>4.456209</td>\n      <td>6.445467</td>\n      <td>6.933260</td>\n      <td>6.079256</td>\n      <td>5.005037</td>\n      <td>4.728182</td>\n      <td>5.081697</td>\n      <td>5.121248</td>\n      <td>4.831697</td>\n      <td>...</td>\n      <td>92587.7500</td>\n      <td>92951.7500</td>\n      <td>94601.7500</td>\n      <td>96793.2500</td>\n      <td>98495.7500</td>\n      <td>99666.2500</td>\n      <td>100511.7500</td>\n      <td>100559.2500</td>\n      <td>100084.7500</td>\n      <td>100223.7500</td>\n    </tr>\n    <tr>\n      <th>2018-01-02 03:00:00</th>\n      <td>2.785621</td>\n      <td>4.582984</td>\n      <td>6.088843</td>\n      <td>6.347144</td>\n      <td>5.558570</td>\n      <td>4.420875</td>\n      <td>4.030250</td>\n      <td>4.482886</td>\n      <td>4.530738</td>\n      <td>4.052222</td>\n      <td>...</td>\n      <td>92567.9375</td>\n      <td>92913.4375</td>\n      <td>94547.4375</td>\n      <td>96735.4375</td>\n      <td>98447.9375</td>\n      <td>99629.4375</td>\n      <td>100481.9375</td>\n      <td>100535.4375</td>\n      <td>100075.9375</td>\n      <td>100227.9375</td>\n    </tr>\n    <tr>\n      <th>2018-01-02 04:00:00</th>\n      <td>2.825115</td>\n      <td>4.300213</td>\n      <td>5.148357</td>\n      <td>5.056561</td>\n      <td>4.373455</td>\n      <td>3.361248</td>\n      <td>2.808514</td>\n      <td>3.105877</td>\n      <td>3.276287</td>\n      <td>3.091717</td>\n      <td>...</td>\n      <td>92532.8750</td>\n      <td>92861.8750</td>\n      <td>94488.8750</td>\n      <td>96686.3750</td>\n      <td>98413.8750</td>\n      <td>99608.3750</td>\n      <td>100467.8750</td>\n      <td>100528.3750</td>\n      <td>100078.3750</td>\n      <td>100244.8750</td>\n    </tr>\n    <tr>\n      <th>...</th>\n      <td>...</td>\n      <td>...</td>\n      <td>...</td>\n      <td>...</td>\n      <td>...</td>\n      <td>...</td>\n      <td>...</td>\n      <td>...</td>\n      <td>...</td>\n      <td>...</td>\n      <td>...</td>\n      <td>...</td>\n      <td>...</td>\n      <td>...</td>\n      <td>...</td>\n      <td>...</td>\n      <td>...</td>\n      <td>...</td>\n      <td>...</td>\n      <td>...</td>\n      <td>...</td>\n    </tr>\n    <tr>\n      <th>2019-01-01 19:00:00</th>\n      <td>-0.273147</td>\n      <td>-1.778029</td>\n      <td>-3.244826</td>\n      <td>-3.892287</td>\n      <td>-3.414748</td>\n      <td>-3.097854</td>\n      <td>-3.362014</td>\n      <td>-2.894240</td>\n      <td>-1.833205</td>\n      <td>-1.261428</td>\n      <td>...</td>\n      <td>93316.0000</td>\n      <td>93655.5000</td>\n      <td>95301.5000</td>\n      <td>97502.0000</td>\n      <td>99221.5000</td>\n      <td>100405.5000</td>\n      <td>101244.0000</td>\n      <td>101273.0000</td>\n      <td>100803.0000</td>\n      <td>100944.0000</td>\n    </tr>\n    <tr>\n      <th>2019-01-01 20:00:00</th>\n      <td>0.061595</td>\n      <td>-1.596608</td>\n      <td>-3.126393</td>\n      <td>-3.694753</td>\n      <td>-2.743093</td>\n      <td>-1.856374</td>\n      <td>-2.360768</td>\n      <td>-2.846120</td>\n      <td>-2.271413</td>\n      <td>-1.359303</td>\n      <td>...</td>\n      <td>93301.5625</td>\n      <td>93631.5625</td>\n      <td>95273.5625</td>\n      <td>97477.0625</td>\n      <td>99205.5625</td>\n      <td>100399.0625</td>\n      <td>101239.5625</td>\n      <td>101262.5625</td>\n      <td>100785.5625</td>\n      <td>100923.5625</td>\n    </tr>\n    <tr>\n      <th>2019-01-01 21:00:00</th>\n      <td>-0.032182</td>\n      <td>-1.475541</td>\n      <td>-2.857377</td>\n      <td>-3.078568</td>\n      <td>-1.687455</td>\n      <td>-0.687455</td>\n      <td>-1.470170</td>\n      <td>-2.625443</td>\n      <td>-2.723100</td>\n      <td>-1.644975</td>\n      <td>...</td>\n      <td>93297.0625</td>\n      <td>93619.5625</td>\n      <td>95263.5625</td>\n      <td>97475.0625</td>\n      <td>99209.5625</td>\n      <td>100402.0625</td>\n      <td>101239.0625</td>\n      <td>101258.5625</td>\n      <td>100775.0625</td>\n      <td>100909.0625</td>\n    </tr>\n    <tr>\n      <th>2019-01-01 22:00:00</th>\n      <td>-0.310802</td>\n      <td>-0.715099</td>\n      <td>-1.627209</td>\n      <td>-1.686291</td>\n      <td>-0.521740</td>\n      <td>0.163319</td>\n      <td>-0.641369</td>\n      <td>-2.232677</td>\n      <td>-3.046154</td>\n      <td>-1.975842</td>\n      <td>...</td>\n      <td>93284.5625</td>\n      <td>93608.5625</td>\n      <td>95257.5625</td>\n      <td>97474.0625</td>\n      <td>99208.5625</td>\n      <td>100399.0625</td>\n      <td>101237.0625</td>\n      <td>101255.0625</td>\n      <td>100763.5625</td>\n      <td>100892.0625</td>\n    </tr>\n    <tr>\n      <th>2019-01-01 23:00:00</th>\n      <td>-0.351562</td>\n      <td>0.089355</td>\n      <td>-0.366699</td>\n      <td>-0.426758</td>\n      <td>0.197754</td>\n      <td>0.521973</td>\n      <td>-0.166016</td>\n      <td>-1.599121</td>\n      <td>-2.365723</td>\n      <td>-1.552734</td>\n      <td>...</td>\n      <td>93241.4375</td>\n      <td>93565.9375</td>\n      <td>95218.9375</td>\n      <td>97439.9375</td>\n      <td>99175.4375</td>\n      <td>100365.4375</td>\n      <td>101202.9375</td>\n      <td>101218.4375</td>\n      <td>100724.9375</td>\n      <td>100855.4375</td>\n    </tr>\n  </tbody>\n</table>\n<p>8760 rows × 46783 columns</p>\n</div>"
     },
     "metadata": {},
     "execution_count": 4
    }
   ],
   "source": [
    "df_2018"
   ]
  },
  {
   "cell_type": "code",
   "execution_count": 3,
   "metadata": {},
   "outputs": [],
   "source": [
    "# 35.5 < 44\n",
    "# -9.5 < 0 < 4.5\n",
    "col = df_2016.columns\n",
    "ini_lat, fin_lat = 35.5, 44.0 \n",
    "ini_lon, fin_lon = -9.5, 4.5\n",
    "step = 0.5\n",
    "listLat = list(np.arange(ini_lat, fin_lat+step, step))\n",
    "listLon = list(np.arange(ini_lon, fin_lon+step, step))\n",
    "search_coord = []\n",
    "for lat in listLat:\n",
    "    for lon in listLon:\n",
    "        search_coord.append(f'({lat}, {lon})')\n",
    "new_coord = []\n",
    "for coord in search_coord:\n",
    "    r = re.compile(f\".*{coord}\")\n",
    "    new_coord += list(filter(r.match, col))\n",
    "newDataframe = df_2016[new_coord]\n",
    "newDataframe.index = df_2016.index"
   ]
  },
  {
   "cell_type": "code",
   "execution_count": 4,
   "metadata": {},
   "outputs": [
    {
     "output_type": "execute_result",
     "data": {
      "text/plain": [
       "['../datasets/df_pen_wind_2016_2018_reduced.pkl']"
      ]
     },
     "metadata": {},
     "execution_count": 4
    }
   ],
   "source": [
    "df_2016_2018_reduced = pd.concat([df_2016_red, df_2017_red, df_2018_red])\n",
    "dump(df_2016_2018_reduced, '../datasets/Peninsula/df_pen_wind_2016_2018_reduced.pkl')"
   ]
  },
  {
   "cell_type": "code",
   "execution_count": 3,
   "metadata": {},
   "outputs": [],
   "source": [
    "df_2016_2018_reduced.index = pd.to_datetime(df_2016_2018_reduced.index, utc=True)\n",
    "joinDataframe = pd.concat([df_2016_2018_reduced, df_target], axis=1, join='inner')"
   ]
  },
  {
   "cell_type": "code",
   "execution_count": 6,
   "metadata": {},
   "outputs": [],
   "source": [
    "import datetime as dt\n",
    "d_2018010100 = dt.datetime.strptime(\"201801010000+0000\", '%Y%m%d%H%M%z')\n",
    "\n",
    "# Menos que 2018 entrenar y validar\n",
    "idx_train = joinDataframe.index < d_2018010100\n",
    "#mas de 2018 test\n",
    "idx_test  = joinDataframe.index >= d_2018010100"
   ]
  },
  {
   "cell_type": "code",
   "execution_count": 7,
   "metadata": {},
   "outputs": [],
   "source": [
    "x_col, target_col = joinDataframe.columns[:-1], joinDataframe.columns[-1]\n",
    "\n",
    "x_train = joinDataframe[idx_train][x_col].values\n",
    "y_train = joinDataframe[idx_train][target_col].values\n",
    "\n",
    "x_test  = joinDataframe[idx_test][x_col].values\n",
    "y_test  = joinDataframe[idx_test][target_col].values"
   ]
  },
  {
   "source": [
    "joinDataframe = pd.concat([df_2016_2018_reduced, df_target], axis=1, join=\"inner\")"
   ],
   "cell_type": "markdown",
   "metadata": {
    "tags": []
   }
  },
  {
   "cell_type": "code",
   "execution_count": 12,
   "metadata": {},
   "outputs": [
    {
     "output_type": "execute_result",
     "data": {
      "text/plain": [
       "['../datasets/Peninsula/df_pen_wind_2018_Y_test.pkl']"
      ]
     },
     "metadata": {},
     "execution_count": 12
    }
   ],
   "source": [
    "dump(x_train, '../datasets/Peninsula/df_pen_wind_2016_2017_X_train.pkl')\n",
    "dump(y_train, '../datasets/Peninsula/df_pen_wind_2016_2017_Y_train.pkl')\n",
    "dump(x_test, '../datasets/Peninsula/df_pen_wind_2018_X_test.pkl')\n",
    "dump(y_test, '../datasets/Peninsula/df_pen_wind_2018_Y_test.pkl')\n"
   ]
  }
 ]
}