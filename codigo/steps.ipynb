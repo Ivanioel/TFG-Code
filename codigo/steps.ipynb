{
 "metadata": {
  "language_info": {
   "codemirror_mode": {
    "name": "ipython",
    "version": 3
   },
   "file_extension": ".py",
   "mimetype": "text/x-python",
   "name": "python",
   "nbconvert_exporter": "python",
   "pygments_lexer": "ipython3",
   "version": "3.9.5"
  },
  "orig_nbformat": 2,
  "kernelspec": {
   "name": "python395jvsc74a57bd0767d51c1340bd893661ea55ea3124f6de3c7a262a8b4abca0554b478b1e2ff90",
   "display_name": "Python 3.9.5 64-bit"
  }
 },
 "nbformat": 4,
 "nbformat_minor": 2,
 "cells": [
  {
   "source": [
    "# Paso a paso de la ejecucion del script\n",
    "En este nootebook se irán explicando paso a paso las partes creadas para que funcine nuestro código"
   ],
   "cell_type": "markdown",
   "metadata": {}
  },
  {
   "cell_type": "code",
   "execution_count": 1,
   "metadata": {},
   "outputs": [],
   "source": [
    "import pandas as pd\n",
    "import numpy as np\n",
    "import re\n",
    "from joblib import load, dump\n",
    "from sklearn.pipeline import Pipeline\n",
    "from sklearn.preprocessing import StandardScaler\n",
    "from sklearn.linear_model import Ridge\n",
    "from sklearn.model_selection import KFold, GridSearchCV, TimeSeriesSplit\n",
    "from sklearn.decomposition import PCA\n",
    "from sklearn.cross_decomposition import PLSRegression\n",
    "from sklearn.compose import TransformedTargetRegressor"
   ]
  },
  {
   "source": [
    "## Lectura del dataset"
   ],
   "cell_type": "markdown",
   "metadata": {}
  },
  {
   "cell_type": "code",
   "execution_count": 2,
   "metadata": {},
   "outputs": [
    {
     "output_type": "error",
     "ename": "FileNotFoundError",
     "evalue": "[Errno 2] No such file or directory: '../datasets/Sotavento/data_target_2016_2017.csv'",
     "traceback": [
      "\u001b[0;31m---------------------------------------------------------------------------\u001b[0m",
      "\u001b[0;31mFileNotFoundError\u001b[0m                         Traceback (most recent call last)",
      "\u001b[0;32m<ipython-input-2-bcd471084dfd>\u001b[0m in \u001b[0;36m<module>\u001b[0;34m\u001b[0m\n\u001b[1;32m      1\u001b[0m \u001b[0;31m# Lectura del dataset\u001b[0m\u001b[0;34m\u001b[0m\u001b[0;34m\u001b[0m\u001b[0;34m\u001b[0m\u001b[0m\n\u001b[0;32m----> 2\u001b[0;31m \u001b[0mfullDataset\u001b[0m \u001b[0;34m=\u001b[0m \u001b[0mpd\u001b[0m\u001b[0;34m.\u001b[0m\u001b[0mread_csv\u001b[0m\u001b[0;34m(\u001b[0m\u001b[0;34m'../datasets/Sotavento/data_target_2016_2017.csv'\u001b[0m\u001b[0;34m,\u001b[0m \u001b[0mindex_col\u001b[0m\u001b[0;34m=\u001b[0m\u001b[0;36m0\u001b[0m\u001b[0;34m,\u001b[0m \u001b[0mparse_dates\u001b[0m\u001b[0;34m=\u001b[0m\u001b[0;32mTrue\u001b[0m\u001b[0;34m)\u001b[0m\u001b[0;34m\u001b[0m\u001b[0;34m\u001b[0m\u001b[0m\n\u001b[0m\u001b[1;32m      3\u001b[0m \u001b[0mx_col\u001b[0m\u001b[0;34m,\u001b[0m \u001b[0mtarget_col\u001b[0m \u001b[0;34m=\u001b[0m \u001b[0mfullDataset\u001b[0m\u001b[0;34m.\u001b[0m\u001b[0mcolumns\u001b[0m\u001b[0;34m[\u001b[0m\u001b[0;34m:\u001b[0m\u001b[0;34m-\u001b[0m\u001b[0;36m1\u001b[0m\u001b[0;34m]\u001b[0m\u001b[0;34m,\u001b[0m \u001b[0mfullDataset\u001b[0m\u001b[0;34m.\u001b[0m\u001b[0mcolumns\u001b[0m\u001b[0;34m[\u001b[0m\u001b[0;34m-\u001b[0m\u001b[0;36m1\u001b[0m\u001b[0;34m]\u001b[0m\u001b[0;34m\u001b[0m\u001b[0;34m\u001b[0m\u001b[0m\n\u001b[1;32m      4\u001b[0m \u001b[0mdata\u001b[0m\u001b[0;34m,\u001b[0m \u001b[0mtarget\u001b[0m \u001b[0;34m=\u001b[0m \u001b[0mfullDataset\u001b[0m\u001b[0;34m[\u001b[0m\u001b[0mx_col\u001b[0m\u001b[0;34m]\u001b[0m\u001b[0;34m,\u001b[0m \u001b[0mfullDataset\u001b[0m\u001b[0;34m[\u001b[0m\u001b[0mtarget_col\u001b[0m\u001b[0;34m]\u001b[0m\u001b[0;34m\u001b[0m\u001b[0;34m\u001b[0m\u001b[0m\n",
      "\u001b[0;32m~/.local/lib/python3.9/site-packages/pandas/io/parsers.py\u001b[0m in \u001b[0;36mread_csv\u001b[0;34m(filepath_or_buffer, sep, delimiter, header, names, index_col, usecols, squeeze, prefix, mangle_dupe_cols, dtype, engine, converters, true_values, false_values, skipinitialspace, skiprows, skipfooter, nrows, na_values, keep_default_na, na_filter, verbose, skip_blank_lines, parse_dates, infer_datetime_format, keep_date_col, date_parser, dayfirst, cache_dates, iterator, chunksize, compression, thousands, decimal, lineterminator, quotechar, quoting, doublequote, escapechar, comment, encoding, dialect, error_bad_lines, warn_bad_lines, delim_whitespace, low_memory, memory_map, float_precision, storage_options)\u001b[0m\n\u001b[1;32m    603\u001b[0m     \u001b[0mkwds\u001b[0m\u001b[0;34m.\u001b[0m\u001b[0mupdate\u001b[0m\u001b[0;34m(\u001b[0m\u001b[0mkwds_defaults\u001b[0m\u001b[0;34m)\u001b[0m\u001b[0;34m\u001b[0m\u001b[0;34m\u001b[0m\u001b[0m\n\u001b[1;32m    604\u001b[0m \u001b[0;34m\u001b[0m\u001b[0m\n\u001b[0;32m--> 605\u001b[0;31m     \u001b[0;32mreturn\u001b[0m \u001b[0m_read\u001b[0m\u001b[0;34m(\u001b[0m\u001b[0mfilepath_or_buffer\u001b[0m\u001b[0;34m,\u001b[0m \u001b[0mkwds\u001b[0m\u001b[0;34m)\u001b[0m\u001b[0;34m\u001b[0m\u001b[0;34m\u001b[0m\u001b[0m\n\u001b[0m\u001b[1;32m    606\u001b[0m \u001b[0;34m\u001b[0m\u001b[0m\n\u001b[1;32m    607\u001b[0m \u001b[0;34m\u001b[0m\u001b[0m\n",
      "\u001b[0;32m~/.local/lib/python3.9/site-packages/pandas/io/parsers.py\u001b[0m in \u001b[0;36m_read\u001b[0;34m(filepath_or_buffer, kwds)\u001b[0m\n\u001b[1;32m    455\u001b[0m \u001b[0;34m\u001b[0m\u001b[0m\n\u001b[1;32m    456\u001b[0m     \u001b[0;31m# Create the parser.\u001b[0m\u001b[0;34m\u001b[0m\u001b[0;34m\u001b[0m\u001b[0;34m\u001b[0m\u001b[0m\n\u001b[0;32m--> 457\u001b[0;31m     \u001b[0mparser\u001b[0m \u001b[0;34m=\u001b[0m \u001b[0mTextFileReader\u001b[0m\u001b[0;34m(\u001b[0m\u001b[0mfilepath_or_buffer\u001b[0m\u001b[0;34m,\u001b[0m \u001b[0;34m**\u001b[0m\u001b[0mkwds\u001b[0m\u001b[0;34m)\u001b[0m\u001b[0;34m\u001b[0m\u001b[0;34m\u001b[0m\u001b[0m\n\u001b[0m\u001b[1;32m    458\u001b[0m \u001b[0;34m\u001b[0m\u001b[0m\n\u001b[1;32m    459\u001b[0m     \u001b[0;32mif\u001b[0m \u001b[0mchunksize\u001b[0m \u001b[0;32mor\u001b[0m \u001b[0miterator\u001b[0m\u001b[0;34m:\u001b[0m\u001b[0;34m\u001b[0m\u001b[0;34m\u001b[0m\u001b[0m\n",
      "\u001b[0;32m~/.local/lib/python3.9/site-packages/pandas/io/parsers.py\u001b[0m in \u001b[0;36m__init__\u001b[0;34m(self, f, engine, **kwds)\u001b[0m\n\u001b[1;32m    812\u001b[0m             \u001b[0mself\u001b[0m\u001b[0;34m.\u001b[0m\u001b[0moptions\u001b[0m\u001b[0;34m[\u001b[0m\u001b[0;34m\"has_index_names\"\u001b[0m\u001b[0;34m]\u001b[0m \u001b[0;34m=\u001b[0m \u001b[0mkwds\u001b[0m\u001b[0;34m[\u001b[0m\u001b[0;34m\"has_index_names\"\u001b[0m\u001b[0;34m]\u001b[0m\u001b[0;34m\u001b[0m\u001b[0;34m\u001b[0m\u001b[0m\n\u001b[1;32m    813\u001b[0m \u001b[0;34m\u001b[0m\u001b[0m\n\u001b[0;32m--> 814\u001b[0;31m         \u001b[0mself\u001b[0m\u001b[0;34m.\u001b[0m\u001b[0m_engine\u001b[0m \u001b[0;34m=\u001b[0m \u001b[0mself\u001b[0m\u001b[0;34m.\u001b[0m\u001b[0m_make_engine\u001b[0m\u001b[0;34m(\u001b[0m\u001b[0mself\u001b[0m\u001b[0;34m.\u001b[0m\u001b[0mengine\u001b[0m\u001b[0;34m)\u001b[0m\u001b[0;34m\u001b[0m\u001b[0;34m\u001b[0m\u001b[0m\n\u001b[0m\u001b[1;32m    815\u001b[0m \u001b[0;34m\u001b[0m\u001b[0m\n\u001b[1;32m    816\u001b[0m     \u001b[0;32mdef\u001b[0m \u001b[0mclose\u001b[0m\u001b[0;34m(\u001b[0m\u001b[0mself\u001b[0m\u001b[0;34m)\u001b[0m\u001b[0;34m:\u001b[0m\u001b[0;34m\u001b[0m\u001b[0;34m\u001b[0m\u001b[0m\n",
      "\u001b[0;32m~/.local/lib/python3.9/site-packages/pandas/io/parsers.py\u001b[0m in \u001b[0;36m_make_engine\u001b[0;34m(self, engine)\u001b[0m\n\u001b[1;32m   1043\u001b[0m             )\n\u001b[1;32m   1044\u001b[0m         \u001b[0;31m# error: Too many arguments for \"ParserBase\"\u001b[0m\u001b[0;34m\u001b[0m\u001b[0;34m\u001b[0m\u001b[0;34m\u001b[0m\u001b[0m\n\u001b[0;32m-> 1045\u001b[0;31m         \u001b[0;32mreturn\u001b[0m \u001b[0mmapping\u001b[0m\u001b[0;34m[\u001b[0m\u001b[0mengine\u001b[0m\u001b[0;34m]\u001b[0m\u001b[0;34m(\u001b[0m\u001b[0mself\u001b[0m\u001b[0;34m.\u001b[0m\u001b[0mf\u001b[0m\u001b[0;34m,\u001b[0m \u001b[0;34m**\u001b[0m\u001b[0mself\u001b[0m\u001b[0;34m.\u001b[0m\u001b[0moptions\u001b[0m\u001b[0;34m)\u001b[0m  \u001b[0;31m# type: ignore[call-arg]\u001b[0m\u001b[0;34m\u001b[0m\u001b[0;34m\u001b[0m\u001b[0m\n\u001b[0m\u001b[1;32m   1046\u001b[0m \u001b[0;34m\u001b[0m\u001b[0m\n\u001b[1;32m   1047\u001b[0m     \u001b[0;32mdef\u001b[0m \u001b[0m_failover_to_python\u001b[0m\u001b[0;34m(\u001b[0m\u001b[0mself\u001b[0m\u001b[0;34m)\u001b[0m\u001b[0;34m:\u001b[0m\u001b[0;34m\u001b[0m\u001b[0;34m\u001b[0m\u001b[0m\n",
      "\u001b[0;32m~/.local/lib/python3.9/site-packages/pandas/io/parsers.py\u001b[0m in \u001b[0;36m__init__\u001b[0;34m(self, src, **kwds)\u001b[0m\n\u001b[1;32m   1860\u001b[0m \u001b[0;34m\u001b[0m\u001b[0m\n\u001b[1;32m   1861\u001b[0m         \u001b[0;31m# open handles\u001b[0m\u001b[0;34m\u001b[0m\u001b[0;34m\u001b[0m\u001b[0;34m\u001b[0m\u001b[0m\n\u001b[0;32m-> 1862\u001b[0;31m         \u001b[0mself\u001b[0m\u001b[0;34m.\u001b[0m\u001b[0m_open_handles\u001b[0m\u001b[0;34m(\u001b[0m\u001b[0msrc\u001b[0m\u001b[0;34m,\u001b[0m \u001b[0mkwds\u001b[0m\u001b[0;34m)\u001b[0m\u001b[0;34m\u001b[0m\u001b[0;34m\u001b[0m\u001b[0m\n\u001b[0m\u001b[1;32m   1863\u001b[0m         \u001b[0;32massert\u001b[0m \u001b[0mself\u001b[0m\u001b[0;34m.\u001b[0m\u001b[0mhandles\u001b[0m \u001b[0;32mis\u001b[0m \u001b[0;32mnot\u001b[0m \u001b[0;32mNone\u001b[0m\u001b[0;34m\u001b[0m\u001b[0;34m\u001b[0m\u001b[0m\n\u001b[1;32m   1864\u001b[0m         \u001b[0;32mfor\u001b[0m \u001b[0mkey\u001b[0m \u001b[0;32min\u001b[0m \u001b[0;34m(\u001b[0m\u001b[0;34m\"storage_options\"\u001b[0m\u001b[0;34m,\u001b[0m \u001b[0;34m\"encoding\"\u001b[0m\u001b[0;34m,\u001b[0m \u001b[0;34m\"memory_map\"\u001b[0m\u001b[0;34m,\u001b[0m \u001b[0;34m\"compression\"\u001b[0m\u001b[0;34m)\u001b[0m\u001b[0;34m:\u001b[0m\u001b[0;34m\u001b[0m\u001b[0;34m\u001b[0m\u001b[0m\n",
      "\u001b[0;32m~/.local/lib/python3.9/site-packages/pandas/io/parsers.py\u001b[0m in \u001b[0;36m_open_handles\u001b[0;34m(self, src, kwds)\u001b[0m\n\u001b[1;32m   1355\u001b[0m         \u001b[0mLet\u001b[0m \u001b[0mthe\u001b[0m \u001b[0mreaders\u001b[0m \u001b[0mopen\u001b[0m \u001b[0mIOHanldes\u001b[0m \u001b[0mafter\u001b[0m \u001b[0mthey\u001b[0m \u001b[0mare\u001b[0m \u001b[0mdone\u001b[0m \u001b[0;32mwith\u001b[0m \u001b[0mtheir\u001b[0m \u001b[0mpotential\u001b[0m \u001b[0mraises\u001b[0m\u001b[0;34m.\u001b[0m\u001b[0;34m\u001b[0m\u001b[0;34m\u001b[0m\u001b[0m\n\u001b[1;32m   1356\u001b[0m         \"\"\"\n\u001b[0;32m-> 1357\u001b[0;31m         self.handles = get_handle(\n\u001b[0m\u001b[1;32m   1358\u001b[0m             \u001b[0msrc\u001b[0m\u001b[0;34m,\u001b[0m\u001b[0;34m\u001b[0m\u001b[0;34m\u001b[0m\u001b[0m\n\u001b[1;32m   1359\u001b[0m             \u001b[0;34m\"r\"\u001b[0m\u001b[0;34m,\u001b[0m\u001b[0;34m\u001b[0m\u001b[0;34m\u001b[0m\u001b[0m\n",
      "\u001b[0;32m~/.local/lib/python3.9/site-packages/pandas/io/common.py\u001b[0m in \u001b[0;36mget_handle\u001b[0;34m(path_or_buf, mode, encoding, compression, memory_map, is_text, errors, storage_options)\u001b[0m\n\u001b[1;32m    637\u001b[0m         \u001b[0;32mif\u001b[0m \u001b[0mioargs\u001b[0m\u001b[0;34m.\u001b[0m\u001b[0mencoding\u001b[0m \u001b[0;32mand\u001b[0m \u001b[0;34m\"b\"\u001b[0m \u001b[0;32mnot\u001b[0m \u001b[0;32min\u001b[0m \u001b[0mioargs\u001b[0m\u001b[0;34m.\u001b[0m\u001b[0mmode\u001b[0m\u001b[0;34m:\u001b[0m\u001b[0;34m\u001b[0m\u001b[0;34m\u001b[0m\u001b[0m\n\u001b[1;32m    638\u001b[0m             \u001b[0;31m# Encoding\u001b[0m\u001b[0;34m\u001b[0m\u001b[0;34m\u001b[0m\u001b[0;34m\u001b[0m\u001b[0m\n\u001b[0;32m--> 639\u001b[0;31m             handle = open(\n\u001b[0m\u001b[1;32m    640\u001b[0m                 \u001b[0mhandle\u001b[0m\u001b[0;34m,\u001b[0m\u001b[0;34m\u001b[0m\u001b[0;34m\u001b[0m\u001b[0m\n\u001b[1;32m    641\u001b[0m                 \u001b[0mioargs\u001b[0m\u001b[0;34m.\u001b[0m\u001b[0mmode\u001b[0m\u001b[0;34m,\u001b[0m\u001b[0;34m\u001b[0m\u001b[0;34m\u001b[0m\u001b[0m\n",
      "\u001b[0;31mFileNotFoundError\u001b[0m: [Errno 2] No such file or directory: '../datasets/Sotavento/data_target_2016_2017.csv'"
     ]
    }
   ],
   "source": [
    "# Lectura del dataset\n",
    "fullDataset = pd.read_csv('../datasets/Sotavento/data_target_stv_2016_2017.csv', index_col=0, parse_dates=True)\n",
    "x_col, target_col = fullDataset.columns[:-1], fullDataset.columns[-1]\n",
    "data, target = fullDataset[x_col], fullDataset[target_col]"
   ]
  },
  {
   "cell_type": "code",
   "execution_count": 4,
   "metadata": {},
   "outputs": [
    {
     "output_type": "execute_result",
     "data": {
      "text/plain": [
       "                     10u_(44.0, -9.5)  10u_(44.0, -9.375)  10u_(44.0, -9.25)  \\\n",
       "prediction date                                                                \n",
       "2016-01-01 00:00:00          1.577097            1.675974           1.836863   \n",
       "2016-01-01 01:00:00          1.320722            1.059857           1.200238   \n",
       "2016-01-01 02:00:00          1.562336            1.023518           0.415607   \n",
       "2016-01-01 03:00:00          0.198002            0.025639           0.332890   \n",
       "2016-01-01 04:00:00          1.604583            1.043792           1.073821   \n",
       "...                               ...                 ...                ...   \n",
       "2017-12-31 19:00:00         13.205357           13.218540          13.285679   \n",
       "2017-12-31 20:00:00         13.454221           13.537229          13.584592   \n",
       "2017-12-31 21:00:00         12.977776           13.069085          13.196038   \n",
       "2017-12-31 22:00:00         12.199634           12.390552          12.424244   \n",
       "2017-12-31 23:00:00         12.989189           12.825859          12.769707   \n",
       "\n",
       "                     10u_(44.0, -9.125)  10u_(44.0, -9.0)  10u_(44.0, -8.875)  \\\n",
       "prediction date                                                                 \n",
       "2016-01-01 00:00:00            1.821115          1.681467            1.424021   \n",
       "2016-01-01 01:00:00            1.276654          1.713910            1.246137   \n",
       "2016-01-01 02:00:00            0.335896          0.563801            0.696369   \n",
       "2016-01-01 03:00:00           -0.118526         -0.533199           -1.093990   \n",
       "2016-01-01 04:00:00            0.065032         -0.961823           -1.394685   \n",
       "...                                 ...               ...                 ...   \n",
       "2017-12-31 19:00:00           13.400913         13.492222           13.571568   \n",
       "2017-12-31 20:00:00           13.700315         13.778440           13.636838   \n",
       "2017-12-31 21:00:00           13.437737         13.550042           13.434808   \n",
       "2017-12-31 22:00:00           12.328052         12.277759           12.337330   \n",
       "2017-12-31 23:00:00           12.802910         12.721367           12.360039   \n",
       "\n",
       "                     10u_(44.0, -8.75)  10u_(44.0, -8.625)  10u_(44.0, -8.5)  \\\n",
       "prediction date                                                                \n",
       "2016-01-01 00:00:00           1.190012            1.106394          1.108713   \n",
       "2016-01-01 01:00:00           0.725141            0.203412          0.215253   \n",
       "2016-01-01 02:00:00           0.487873            0.106770         -0.157024   \n",
       "2016-01-01 03:00:00          -1.123653           -1.040646         -0.928341   \n",
       "2016-01-01 04:00:00          -1.394074           -1.230012         -1.500520   \n",
       "...                                ...                 ...               ...   \n",
       "2017-12-31 19:00:00          13.746616           13.927280         14.026646   \n",
       "2017-12-31 20:00:00          13.510373           13.691525         13.993772   \n",
       "2017-12-31 21:00:00          13.520745           13.726800         13.812249   \n",
       "2017-12-31 22:00:00          12.650806           13.123463         13.546314   \n",
       "2017-12-31 23:00:00          12.159111           12.619804         13.065849   \n",
       "\n",
       "                     10u_(44.0, -8.375)  ...  vel100_(43.0, -6.0)  \\\n",
       "prediction date                          ...                        \n",
       "2016-01-01 00:00:00            1.304880  ...             5.321404   \n",
       "2016-01-01 01:00:00            0.447186  ...             5.435709   \n",
       "2016-01-01 02:00:00           -0.133709  ...             5.325067   \n",
       "2016-01-01 03:00:00           -0.824581  ...             5.177444   \n",
       "2016-01-01 04:00:00           -1.470124  ...             5.317643   \n",
       "...                                 ...  ...                  ...   \n",
       "2017-12-31 19:00:00           14.026402  ...             6.993787   \n",
       "2017-12-31 20:00:00           14.166135  ...             7.092767   \n",
       "2017-12-31 21:00:00           13.859124  ...             7.058320   \n",
       "2017-12-31 22:00:00           13.813404  ...             7.217394   \n",
       "2017-12-31 23:00:00           12.910087  ...             7.222850   \n",
       "\n",
       "                     vel100_(43.125, -6.0)  vel100_(43.25, -6.0)  \\\n",
       "prediction date                                                    \n",
       "2016-01-01 00:00:00               5.971150              5.862873   \n",
       "2016-01-01 01:00:00               6.092992              5.361253   \n",
       "2016-01-01 02:00:00               6.018884              4.991258   \n",
       "2016-01-01 03:00:00               5.716941              4.493564   \n",
       "2016-01-01 04:00:00               5.648662              4.902998   \n",
       "...                                    ...                   ...   \n",
       "2017-12-31 19:00:00               6.961161              8.223429   \n",
       "2017-12-31 20:00:00               6.628419              7.578160   \n",
       "2017-12-31 21:00:00               6.408309              7.045037   \n",
       "2017-12-31 22:00:00               6.518493              7.093818   \n",
       "2017-12-31 23:00:00               6.713520              7.311964   \n",
       "\n",
       "                     vel100_(43.375, -6.0)  vel100_(43.5, -6.0)  \\\n",
       "prediction date                                                   \n",
       "2016-01-01 00:00:00               5.164530             5.391425   \n",
       "2016-01-01 01:00:00               3.485183             3.988883   \n",
       "2016-01-01 02:00:00               2.281320             2.807106   \n",
       "2016-01-01 03:00:00               1.185751             1.837592   \n",
       "2016-01-01 04:00:00               3.442938             3.724846   \n",
       "...                                    ...                  ...   \n",
       "2017-12-31 19:00:00               9.236624             8.309718   \n",
       "2017-12-31 20:00:00               8.436968             8.207733   \n",
       "2017-12-31 21:00:00               8.654056             8.371027   \n",
       "2017-12-31 22:00:00               9.396872             8.917194   \n",
       "2017-12-31 23:00:00               9.620194             9.385022   \n",
       "\n",
       "                     vel100_(43.625, -6.0)  vel100_(43.75, -6.0)  \\\n",
       "prediction date                                                    \n",
       "2016-01-01 00:00:00               6.107658              6.398007   \n",
       "2016-01-01 01:00:00               4.845162              5.260955   \n",
       "2016-01-01 02:00:00               3.654994              4.170403   \n",
       "2016-01-01 03:00:00               3.329041              4.260316   \n",
       "2016-01-01 04:00:00               4.111763              4.328406   \n",
       "...                                    ...                   ...   \n",
       "2017-12-31 19:00:00              11.641448             17.365959   \n",
       "2017-12-31 20:00:00              10.873664             15.504934   \n",
       "2017-12-31 21:00:00              10.311946             13.318638   \n",
       "2017-12-31 22:00:00              10.942802             13.800769   \n",
       "2017-12-31 23:00:00              10.638351             14.286751   \n",
       "\n",
       "                     vel100_(43.875, -6.0)  vel100_(44.0, -6.0)      targ  \n",
       "prediction date                                                            \n",
       "2016-01-01 00:00:00               6.472929             6.793221  0.235006  \n",
       "2016-01-01 01:00:00               5.464975             5.908251  0.323947  \n",
       "2016-01-01 02:00:00               4.632105             5.078648  0.440889  \n",
       "2016-01-01 03:00:00               4.934864             5.643699  0.436247  \n",
       "2016-01-01 04:00:00               4.885375             5.730442  0.554128  \n",
       "...                                    ...                  ...       ...  \n",
       "2017-12-31 19:00:00              19.244395            19.069818  0.589443  \n",
       "2017-12-31 20:00:00              18.109813            18.008255  0.570834  \n",
       "2017-12-31 21:00:00              16.395524            18.839948  0.587978  \n",
       "2017-12-31 22:00:00              16.601590            19.430573  0.688353  \n",
       "2017-12-31 23:00:00              17.092854            17.556337  0.609999  \n",
       "\n",
       "[17544 rows x 3481 columns]"
      ],
      "text/html": "<div>\n<style scoped>\n    .dataframe tbody tr th:only-of-type {\n        vertical-align: middle;\n    }\n\n    .dataframe tbody tr th {\n        vertical-align: top;\n    }\n\n    .dataframe thead th {\n        text-align: right;\n    }\n</style>\n<table border=\"1\" class=\"dataframe\">\n  <thead>\n    <tr style=\"text-align: right;\">\n      <th></th>\n      <th>10u_(44.0, -9.5)</th>\n      <th>10u_(44.0, -9.375)</th>\n      <th>10u_(44.0, -9.25)</th>\n      <th>10u_(44.0, -9.125)</th>\n      <th>10u_(44.0, -9.0)</th>\n      <th>10u_(44.0, -8.875)</th>\n      <th>10u_(44.0, -8.75)</th>\n      <th>10u_(44.0, -8.625)</th>\n      <th>10u_(44.0, -8.5)</th>\n      <th>10u_(44.0, -8.375)</th>\n      <th>...</th>\n      <th>vel100_(43.0, -6.0)</th>\n      <th>vel100_(43.125, -6.0)</th>\n      <th>vel100_(43.25, -6.0)</th>\n      <th>vel100_(43.375, -6.0)</th>\n      <th>vel100_(43.5, -6.0)</th>\n      <th>vel100_(43.625, -6.0)</th>\n      <th>vel100_(43.75, -6.0)</th>\n      <th>vel100_(43.875, -6.0)</th>\n      <th>vel100_(44.0, -6.0)</th>\n      <th>targ</th>\n    </tr>\n    <tr>\n      <th>prediction date</th>\n      <th></th>\n      <th></th>\n      <th></th>\n      <th></th>\n      <th></th>\n      <th></th>\n      <th></th>\n      <th></th>\n      <th></th>\n      <th></th>\n      <th></th>\n      <th></th>\n      <th></th>\n      <th></th>\n      <th></th>\n      <th></th>\n      <th></th>\n      <th></th>\n      <th></th>\n      <th></th>\n      <th></th>\n    </tr>\n  </thead>\n  <tbody>\n    <tr>\n      <th>2016-01-01 00:00:00</th>\n      <td>1.577097</td>\n      <td>1.675974</td>\n      <td>1.836863</td>\n      <td>1.821115</td>\n      <td>1.681467</td>\n      <td>1.424021</td>\n      <td>1.190012</td>\n      <td>1.106394</td>\n      <td>1.108713</td>\n      <td>1.304880</td>\n      <td>...</td>\n      <td>5.321404</td>\n      <td>5.971150</td>\n      <td>5.862873</td>\n      <td>5.164530</td>\n      <td>5.391425</td>\n      <td>6.107658</td>\n      <td>6.398007</td>\n      <td>6.472929</td>\n      <td>6.793221</td>\n      <td>0.235006</td>\n    </tr>\n    <tr>\n      <th>2016-01-01 01:00:00</th>\n      <td>1.320722</td>\n      <td>1.059857</td>\n      <td>1.200238</td>\n      <td>1.276654</td>\n      <td>1.713910</td>\n      <td>1.246137</td>\n      <td>0.725141</td>\n      <td>0.203412</td>\n      <td>0.215253</td>\n      <td>0.447186</td>\n      <td>...</td>\n      <td>5.435709</td>\n      <td>6.092992</td>\n      <td>5.361253</td>\n      <td>3.485183</td>\n      <td>3.988883</td>\n      <td>4.845162</td>\n      <td>5.260955</td>\n      <td>5.464975</td>\n      <td>5.908251</td>\n      <td>0.323947</td>\n    </tr>\n    <tr>\n      <th>2016-01-01 02:00:00</th>\n      <td>1.562336</td>\n      <td>1.023518</td>\n      <td>0.415607</td>\n      <td>0.335896</td>\n      <td>0.563801</td>\n      <td>0.696369</td>\n      <td>0.487873</td>\n      <td>0.106770</td>\n      <td>-0.157024</td>\n      <td>-0.133709</td>\n      <td>...</td>\n      <td>5.325067</td>\n      <td>6.018884</td>\n      <td>4.991258</td>\n      <td>2.281320</td>\n      <td>2.807106</td>\n      <td>3.654994</td>\n      <td>4.170403</td>\n      <td>4.632105</td>\n      <td>5.078648</td>\n      <td>0.440889</td>\n    </tr>\n    <tr>\n      <th>2016-01-01 03:00:00</th>\n      <td>0.198002</td>\n      <td>0.025639</td>\n      <td>0.332890</td>\n      <td>-0.118526</td>\n      <td>-0.533199</td>\n      <td>-1.093990</td>\n      <td>-1.123653</td>\n      <td>-1.040646</td>\n      <td>-0.928341</td>\n      <td>-0.824581</td>\n      <td>...</td>\n      <td>5.177444</td>\n      <td>5.716941</td>\n      <td>4.493564</td>\n      <td>1.185751</td>\n      <td>1.837592</td>\n      <td>3.329041</td>\n      <td>4.260316</td>\n      <td>4.934864</td>\n      <td>5.643699</td>\n      <td>0.436247</td>\n    </tr>\n    <tr>\n      <th>2016-01-01 04:00:00</th>\n      <td>1.604583</td>\n      <td>1.043792</td>\n      <td>1.073821</td>\n      <td>0.065032</td>\n      <td>-0.961823</td>\n      <td>-1.394685</td>\n      <td>-1.394074</td>\n      <td>-1.230012</td>\n      <td>-1.500520</td>\n      <td>-1.470124</td>\n      <td>...</td>\n      <td>5.317643</td>\n      <td>5.648662</td>\n      <td>4.902998</td>\n      <td>3.442938</td>\n      <td>3.724846</td>\n      <td>4.111763</td>\n      <td>4.328406</td>\n      <td>4.885375</td>\n      <td>5.730442</td>\n      <td>0.554128</td>\n    </tr>\n    <tr>\n      <th>...</th>\n      <td>...</td>\n      <td>...</td>\n      <td>...</td>\n      <td>...</td>\n      <td>...</td>\n      <td>...</td>\n      <td>...</td>\n      <td>...</td>\n      <td>...</td>\n      <td>...</td>\n      <td>...</td>\n      <td>...</td>\n      <td>...</td>\n      <td>...</td>\n      <td>...</td>\n      <td>...</td>\n      <td>...</td>\n      <td>...</td>\n      <td>...</td>\n      <td>...</td>\n      <td>...</td>\n    </tr>\n    <tr>\n      <th>2017-12-31 19:00:00</th>\n      <td>13.205357</td>\n      <td>13.218540</td>\n      <td>13.285679</td>\n      <td>13.400913</td>\n      <td>13.492222</td>\n      <td>13.571568</td>\n      <td>13.746616</td>\n      <td>13.927280</td>\n      <td>14.026646</td>\n      <td>14.026402</td>\n      <td>...</td>\n      <td>6.993787</td>\n      <td>6.961161</td>\n      <td>8.223429</td>\n      <td>9.236624</td>\n      <td>8.309718</td>\n      <td>11.641448</td>\n      <td>17.365959</td>\n      <td>19.244395</td>\n      <td>19.069818</td>\n      <td>0.589443</td>\n    </tr>\n    <tr>\n      <th>2017-12-31 20:00:00</th>\n      <td>13.454221</td>\n      <td>13.537229</td>\n      <td>13.584592</td>\n      <td>13.700315</td>\n      <td>13.778440</td>\n      <td>13.636838</td>\n      <td>13.510373</td>\n      <td>13.691525</td>\n      <td>13.993772</td>\n      <td>14.166135</td>\n      <td>...</td>\n      <td>7.092767</td>\n      <td>6.628419</td>\n      <td>7.578160</td>\n      <td>8.436968</td>\n      <td>8.207733</td>\n      <td>10.873664</td>\n      <td>15.504934</td>\n      <td>18.109813</td>\n      <td>18.008255</td>\n      <td>0.570834</td>\n    </tr>\n    <tr>\n      <th>2017-12-31 21:00:00</th>\n      <td>12.977776</td>\n      <td>13.069085</td>\n      <td>13.196038</td>\n      <td>13.437737</td>\n      <td>13.550042</td>\n      <td>13.434808</td>\n      <td>13.520745</td>\n      <td>13.726800</td>\n      <td>13.812249</td>\n      <td>13.859124</td>\n      <td>...</td>\n      <td>7.058320</td>\n      <td>6.408309</td>\n      <td>7.045037</td>\n      <td>8.654056</td>\n      <td>8.371027</td>\n      <td>10.311946</td>\n      <td>13.318638</td>\n      <td>16.395524</td>\n      <td>18.839948</td>\n      <td>0.587978</td>\n    </tr>\n    <tr>\n      <th>2017-12-31 22:00:00</th>\n      <td>12.199634</td>\n      <td>12.390552</td>\n      <td>12.424244</td>\n      <td>12.328052</td>\n      <td>12.277759</td>\n      <td>12.337330</td>\n      <td>12.650806</td>\n      <td>13.123463</td>\n      <td>13.546314</td>\n      <td>13.813404</td>\n      <td>...</td>\n      <td>7.217394</td>\n      <td>6.518493</td>\n      <td>7.093818</td>\n      <td>9.396872</td>\n      <td>8.917194</td>\n      <td>10.942802</td>\n      <td>13.800769</td>\n      <td>16.601590</td>\n      <td>19.430573</td>\n      <td>0.688353</td>\n    </tr>\n    <tr>\n      <th>2017-12-31 23:00:00</th>\n      <td>12.989189</td>\n      <td>12.825859</td>\n      <td>12.769707</td>\n      <td>12.802910</td>\n      <td>12.721367</td>\n      <td>12.360039</td>\n      <td>12.159111</td>\n      <td>12.619804</td>\n      <td>13.065849</td>\n      <td>12.910087</td>\n      <td>...</td>\n      <td>7.222850</td>\n      <td>6.713520</td>\n      <td>7.311964</td>\n      <td>9.620194</td>\n      <td>9.385022</td>\n      <td>10.638351</td>\n      <td>14.286751</td>\n      <td>17.092854</td>\n      <td>17.556337</td>\n      <td>0.609999</td>\n    </tr>\n  </tbody>\n</table>\n<p>17544 rows × 3481 columns</p>\n</div>"
     },
     "metadata": {},
     "execution_count": 4
    }
   ],
   "source": [
    "fullDataset"
   ]
  },
  {
   "source": [
    "## Parte optativa de reducción de dimension\n",
    "Esta parte es para las pruebas iniciales, luego se debe omitir, puesto que estamos reduciendo el dataset"
   ],
   "cell_type": "markdown",
   "metadata": {}
  },
  {
   "cell_type": "code",
   "execution_count": 5,
   "metadata": {},
   "outputs": [],
   "source": [
    "### En este caso el dataset ya está en el intervalo [0-1]\n",
    "### En caso de que no lo estuviera, dividimos entre la potencia máxima del parque\n",
    " \n",
    "#pot_install = 17560\n",
    "#target = target / pot_install\n",
    "### Valores desde los que crear la nueva región\n",
    "midLat = 43.375\n",
    "midLon = -7.875\n",
    "jump = 0.125\n",
    "n = 5\n",
    "### Latitud y longitud\n",
    "listLat = list(np.arange(midLat-jump*n, midLat+jump*(n+1), jump))\n",
    "listLon = list(np.arange(midLon-jump*n, midLon+jump*(n+1), jump))\n",
    "search_coord = []\n",
    "for lat in listLat:\n",
    "    for lon in listLon:\n",
    "        search_coord.append(f'({lat}, {lon})')\n",
    "### Con una expresión regular limpiamos las columnas que no nos interesna\n",
    "col = list(data.columns)\n",
    "new_coord = []\n",
    "for coord in search_coord:\n",
    "    r = re.compile(f\".*{coord}\")\n",
    "    new_coord += list(filter(r.match, col))\n",
    "newDataframe = data[new_coord]\n",
    "newDataframe.index = data.index\n",
    "data = newDataframe"
   ]
  },
  {
   "source": [
    "## Partes a incluir en el pipeline"
   ],
   "cell_type": "markdown",
   "metadata": {}
  },
  {
   "cell_type": "code",
   "execution_count": null,
   "metadata": {},
   "outputs": [],
   "source": [
    "# Creación de PCA sin parámetros para luego hiperparametrizar\n",
    "pca = PCA()\n",
    "# Creación del modelo de regresion final\n",
    "reg = Ridge(max_iter=10000)"
   ]
  },
  {
   "source": [
    "## Creación del Pipeline y estandarización del target"
   ],
   "cell_type": "markdown",
   "metadata": {}
  },
  {
   "cell_type": "code",
   "execution_count": null,
   "metadata": {},
   "outputs": [],
   "source": [
    "# Pipeline\n",
    "regr_base = Pipeline(steps=[('std_sc', StandardScaler()),\n",
    "                            ('pca', pca),\n",
    "\t\t\t\t            ('reg', reg)])\n",
    "\n",
    "# Estandarizamos el target también\n",
    "y_transformer = StandardScaler()\n",
    "inner_estimator = TransformedTargetRegressor(regressor=regr_base, transformer=y_transformer)"
   ]
  },
  {
   "source": [
    "## Hiperparametrización"
   ],
   "cell_type": "markdown",
   "metadata": {}
  },
  {
   "cell_type": "code",
   "execution_count": null,
   "metadata": {},
   "outputs": [],
   "source": [
    "# Parametros a hiperparametrizar\n",
    "l_alpha = [10.**k for k in range(-3, 5)]\n",
    "n_components = list(range(50, 301, 25))\n",
    "param_grid = {\n",
    "    'regressor__reg__alpha': l_alpha,\n",
    "    'regressor__pca__n_components': n_components,\n",
    "}\n",
    "# Numero de splits para Cross Validation\n",
    "n_splits = 2\n",
    "kf = KFold(n_splits, shuffle=False)\n",
    "# Hiperparametrizacion\n",
    "cv_estimator = GridSearchCV(estimator=inner_estimator, \n",
    "                            param_grid=param_grid, \n",
    "                            cv=kf, \n",
    "                            scoring='neg_mean_absolute_error', \n",
    "                            return_train_score=True, \n",
    "                            n_jobs=5, \n",
    "                            verbose=1)"
   ]
  },
  {
   "source": [
    "## Entrenamiento y volcado de datos"
   ],
   "cell_type": "markdown",
   "metadata": {}
  },
  {
   "cell_type": "code",
   "execution_count": null,
   "metadata": {},
   "outputs": [],
   "source": [
    "# Fit datos \n",
    "_ = cv_estimator.fit(data.values, target.values)\n",
    "print(f\"Mejor estimador: {cv_estimator.best_estimator_}\")\n",
    "print(f\"Mejor puntuacion - mejor estimador: {cv_estimator.best_score_}\")\n",
    "# Guardar datos en fichero\n",
    "filename = f'cv_estimator__ridge_{n_components[0]}_{n_components[-1]}_{n_components[1]-n_components[0]}'\n",
    "dump(cv_estimator, filename)"
   ]
  },
  {
   "cell_type": "code",
   "execution_count": null,
   "metadata": {},
   "outputs": [],
   "source": []
  }
 ]
}