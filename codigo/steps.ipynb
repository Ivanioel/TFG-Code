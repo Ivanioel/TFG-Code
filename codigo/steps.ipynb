{
 "metadata": {
  "language_info": {
   "codemirror_mode": {
    "name": "ipython",
    "version": 3
   },
   "file_extension": ".py",
   "mimetype": "text/x-python",
   "name": "python",
   "nbconvert_exporter": "python",
   "pygments_lexer": "ipython3",
   "version": "3.9.5"
  },
  "orig_nbformat": 2,
  "kernelspec": {
   "name": "python395jvsc74a57bd0767d51c1340bd893661ea55ea3124f6de3c7a262a8b4abca0554b478b1e2ff90",
   "display_name": "Python 3.9.5 64-bit"
  }
 },
 "nbformat": 4,
 "nbformat_minor": 2,
 "cells": [
  {
   "source": [
    "# Paso a paso de la ejecucion del script\n",
    "En este nootebook se irán explicando paso a paso las partes creadas para que funcine nuestro código"
   ],
   "cell_type": "markdown",
   "metadata": {}
  },
  {
   "cell_type": "code",
   "execution_count": null,
   "metadata": {},
   "outputs": [],
   "source": [
    "import pandas as pd\n",
    "import numpy as np\n",
    "import re\n",
    "from joblib import load, dump\n",
    "from sklearn.pipeline import Pipeline\n",
    "from sklearn.preprocessing import StandardScaler\n",
    "from sklearn.linear_model import Ridge\n",
    "from sklearn.model_selection import KFold, GridSearchCV, TimeSeriesSplit\n",
    "from sklearn.decomposition import PCA\n",
    "from sklearn.cross_decomposition import PLSRegression\n",
    "from sklearn.compose import TransformedTargetRegressor"
   ]
  },
  {
   "source": [
    "## Lectura del dataset"
   ],
   "cell_type": "markdown",
   "metadata": {}
  },
  {
   "cell_type": "code",
   "execution_count": null,
   "metadata": {},
   "outputs": [],
   "source": [
    "# Lectura del dataset\n",
    "fullDataset = pd.read_csv('../datasets/data_target_stv_2017.csv', index_col=0, parse_dates=True)\n",
    "x_col, target_col = fullDataset.columns[:-1], fullDataset.columns[-1]\n",
    "data, target = fullDataset[x_col], fullDataset[target_col]"
   ]
  },
  {
   "source": [
    "## Parte optativa de reducción de dimension\n",
    "Esta parte es para las pruebas iniciales, luego se debe omitir, puesto que estamos reduciendo el dataset"
   ],
   "cell_type": "markdown",
   "metadata": {}
  },
  {
   "cell_type": "code",
   "execution_count": null,
   "metadata": {},
   "outputs": [],
   "source": [
    "### En este caso el dataset ya está en el intervalo [0-1]\n",
    "### En caso de que no lo estuviera, dividimos entre la potencia máxima del parque\n",
    " \n",
    "#pot_install = 17560\n",
    "#target = target / pot_install\n",
    "### Valores desde los que crear la nueva región\n",
    "midLat = 43.375\n",
    "midLon = -7.875\n",
    "jump = 0.125\n",
    "n = 5\n",
    "### Latitud y longitud\n",
    "listLat = list(np.arange(midLat-jump*n, midLat+jump*(n+1), jump))\n",
    "listLon = list(np.arange(midLon-jump*n, midLon+jump*(n+1), jump))\n",
    "search_coord = []\n",
    "for lat in listLat:\n",
    "    for lon in listLon:\n",
    "        search_coord.append(f'({lat}, {lon})')\n",
    "### Con una expresión regular limpiamos las columnas que no nos interesna\n",
    "col = list(data.columns)\n",
    "new_coord = []\n",
    "for coord in search_coord:\n",
    "    r = re.compile(f\".*{coord}\")\n",
    "    new_coord += list(filter(r.match, col))\n",
    "newDataframe = data[new_coord]\n",
    "newDataframe.index = data.index\n",
    "data = newDataframe"
   ]
  },
  {
   "source": [
    "## Partes a incluir en el pipeline"
   ],
   "cell_type": "markdown",
   "metadata": {}
  },
  {
   "cell_type": "code",
   "execution_count": null,
   "metadata": {},
   "outputs": [],
   "source": [
    "# Creación de PCA sin parámetros para luego hiperparametrizar\n",
    "pca = PCA()\n",
    "# Creación del modelo de regresion final\n",
    "reg = Ridge(max_iter=10000)"
   ]
  },
  {
   "source": [
    "## Creación del Pipeline y estandarización del target"
   ],
   "cell_type": "markdown",
   "metadata": {}
  },
  {
   "cell_type": "code",
   "execution_count": null,
   "metadata": {},
   "outputs": [],
   "source": [
    "# Pipeline\n",
    "regr_base = Pipeline(steps=[('std_sc', StandardScaler()),\n",
    "                            ('pca', pca),\n",
    "\t\t\t\t            ('reg', reg)])\n",
    "\n",
    "# Estandarizamos el target también\n",
    "y_transformer = StandardScaler()\n",
    "inner_estimator = TransformedTargetRegressor(regressor=regr_base, transformer=y_transformer)"
   ]
  },
  {
   "source": [
    "## Hiperparametrización"
   ],
   "cell_type": "markdown",
   "metadata": {}
  },
  {
   "cell_type": "code",
   "execution_count": null,
   "metadata": {},
   "outputs": [],
   "source": [
    "# Parametros a hiperparametrizar\n",
    "l_alpha = [10.**k for k in range(-3, 5)]\n",
    "n_components = list(range(50, 301, 25))\n",
    "param_grid = {\n",
    "    'regressor__reg__alpha': l_alpha,\n",
    "    'regressor__pca__n_components': n_components,\n",
    "}\n",
    "# Numero de splits para Cross Validation\n",
    "n_splits = 6\n",
    "kf = KFold(n_splits, shuffle=False)\n",
    "# Hiperparametrizacion\n",
    "cv_estimator = GridSearchCV(estimator=inner_estimator, \n",
    "                            param_grid=param_grid, \n",
    "                            cv=kf, \n",
    "                            scoring='neg_mean_absolute_error', \n",
    "                            return_train_score=True, \n",
    "                            n_jobs=5, \n",
    "                            verbose=1)"
   ]
  },
  {
   "source": [
    "## Entrenamiento y volcado de datos"
   ],
   "cell_type": "markdown",
   "metadata": {}
  },
  {
   "cell_type": "code",
   "execution_count": null,
   "metadata": {},
   "outputs": [],
   "source": [
    "# Fit datos \n",
    "_ = cv_estimator.fit(data.values, target.values)\n",
    "print(f\"Mejor estimador: {cv_estimator.best_estimator_}\")\n",
    "print(f\"Mejor puntuacion - mejor estimador: {cv_estimator.best_score_}\")\n",
    "# Guardar datos en fichero\n",
    "filename = f'cv_estimator__ridge_{n_components[0]}_{n_components[-1]}_{n_components[1]-n_components[0]}'\n",
    "dump(cv_estimator, filename)"
   ]
  },
  {
   "cell_type": "code",
   "execution_count": null,
   "metadata": {},
   "outputs": [],
   "source": []
  }
 ]
}